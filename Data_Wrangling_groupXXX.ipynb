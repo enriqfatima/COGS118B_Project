{
 "cells": [
  {
   "cell_type": "markdown",
   "metadata": {},
   "source": [
    "# COGS 118B - Data Wrangling"
   ]
  },
  {
   "cell_type": "markdown",
   "metadata": {},
   "source": [
    "# Names\n",
    "\n",
    "\n",
    "- Ana Maria Baboescu\n",
    "- Bradley Grace\n",
    "- Fatima Enriquez\n",
    "- Ngoc (Lucy) Giang\n",
    "- Stephanie Frianeza"
   ]
  },
  {
   "cell_type": "markdown",
   "metadata": {},
   "source": [
    "# Imported Libraries\n",
    "Feel free to add any necessary libraries"
   ]
  },
  {
   "cell_type": "code",
   "execution_count": null,
   "metadata": {},
   "outputs": [],
   "source": [
    "import pandas as pd\n",
    "import numpy as np\n",
    "import matplotlib.pyplot as plt\n",
    "import sklearn"
   ]
  },
  {
   "cell_type": "markdown",
   "metadata": {},
   "source": [
    "# FMA - Bradley\n",
    "Below code displays the updated dataset with the wanted variables"
   ]
  },
  {
   "cell_type": "code",
   "execution_count": null,
   "metadata": {},
   "outputs": [],
   "source": [
    "# https://github.com/mdeff/fma\n",
    "\n",
    "# Import dataframes from CSV files\n",
    "fma_tracks = pd.read_csv('fma/tracks.csv') # per track metadata such as ID, title, artist, genres, tags and play counts, for all 106,574 tracks.\n",
    "fma_genres = pd.read_csv('fma/genres.csv') # all 163 genres with name and parent\n",
    "fma_features1 = pd.read_csv('fma/features.csv') # common features extracted with librosa\n",
    "fma_features2 = pd.read_csv('fma/echonest.csv') # audio features provided by Echonest (now Spotify)\n",
    "\n",
    "fma_tracks.shape, fma_genres.shape, fma_features1.shape, fma_features2.shape"
   ]
  },
  {
   "cell_type": "code",
   "execution_count": null,
   "metadata": {},
   "outputs": [],
   "source": [
    "fma_tracks.columns.values"
   ]
  },
  {
   "cell_type": "code",
   "execution_count": null,
   "metadata": {},
   "outputs": [],
   "source": [
    "# 12 = artist names\n",
    "fma_artist_names = fma_tracks['artist.12']\n",
    "fma_artist_names\n",
    "\n",
    "# TODO: truncate 1-3 rows."
   ]
  },
  {
   "cell_type": "code",
   "execution_count": null,
   "metadata": {},
   "outputs": [],
   "source": [
    "\n",
    "fma_track_titles = fma_tracks['track.19']\n",
    "fma_track_titles"
   ]
  },
  {
   "cell_type": "code",
   "execution_count": null,
   "metadata": {},
   "outputs": [],
   "source": [
    "\n",
    "fma_album_titles = fma_tracks['album.10']\n",
    "fma_album_titles"
   ]
  },
  {
   "cell_type": "code",
   "execution_count": null,
   "metadata": {},
   "outputs": [],
   "source": [
    "fma_album_types = fma_tracks['album.12']\n",
    "fma_album_types"
   ]
  },
  {
   "cell_type": "code",
   "execution_count": null,
   "metadata": {},
   "outputs": [],
   "source": [
    "\n",
    "fma_features2.head()\n",
    "\n",
    "fma_danceability = fma_features2['echonest.1']\n",
    "fma_energy = fma_features2['echonest.2']\n",
    "#fma_loudness = fma_features2['echonest.']\n",
    "fma_speechiness = fma_features2['echonest.5']\n",
    "fma_acousticness = fma_features2['echonest']\n",
    "fma_instrumentalness = fma_features2['echonest.3']\n",
    "fma_liveness = fma_features2['echonest.4']"
   ]
  },
  {
   "cell_type": "markdown",
   "metadata": {},
   "source": [
    "# Spotify - Lucy\n",
    "Below code displays the updated dataset with the wanted variables"
   ]
  },
  {
   "cell_type": "code",
   "execution_count": null,
   "metadata": {},
   "outputs": [],
   "source": [
    "headers = [\"Artist\", \"Track\", \"Album\", \"Album_type\", \"Danceability\", \"Energy\", \"Loudness\",\"Speechiness\",\"Acousticness\",\"Instrumentalness\",\"Liveness\",\"Valence\",\"Tempo\",\"Duration_min\",\"Title\",\"Channel\",\"Views\",\"Likes\",\"Comments\",\"Licensed\",\"official_video\",\"Stream\",\"EnergyLiveness\",\"most_playedon\"]\n",
    "music_data = pd.read_csv('cleaned_dataset.csv', header = None, names = headers)\n",
    "music_data.head()\n",
    "\n",
    "selected_columns = [\"Artist\", \"Track\", \"Album\", \"Album_type\", \"Danceability\", \"Loudness\", \"Speechiness\", \"Acousticness\", \"Instrumentalness\"]\n",
    "music_data = music_data[selected_columns]\n",
    "\n",
    "# preview\n",
    "music_data.head()\n",
    "\n",
    "#check what data types we have in the dataset\n",
    "print(music_data.dtypes)\n",
    "\n",
    "#check for any null values\n",
    "music_data[music_data.isnull().any(axis=1)]\n",
    "\n",
    "# export file\n",
    "# music_data.to_csv('music_data2.csv', index=False)"
   ]
  },
  {
   "cell_type": "markdown",
   "metadata": {},
   "source": [
    "# 500 Greatest Songs - Fatima\n",
    "Below code displays the updated dataset with the wanted variables\n"
   ]
  },
  {
   "cell_type": "code",
   "execution_count": null,
   "metadata": {},
   "outputs": [],
   "source": [
    "df_top_500 = pd.read_csv('Top 500 Songs.csv',encoding='Latin 1')\n",
    "df_top_500 = df_top_500[[\"title\", \"description\", \"artist\"]] \n",
    "df_top_500.isnull().sum().sum() #no missing values (yay!) \n",
    "df_top_500 = df_top_500.rename(columns={\"artist\": \"Artist\", \"description\" : \"Description\", \"title\" : \"Title\"})\n",
    "df_top_500[\"Title,Artist\"] = df_top_500[\"Title\"] + \"*\\*\" + df_top_500[\"Artist\"]\n",
    "df_top_500"
   ]
  },
  {
   "cell_type": "markdown",
   "metadata": {},
   "source": [
    "# Prediction of Music - Ana & Stephanie\n",
    "Below code displays the updated dataset with the wanted variables\n"
   ]
  },
  {
   "cell_type": "code",
   "execution_count": null,
   "metadata": {},
   "outputs": [],
   "source": [
    "from sklearn.mixture import GaussianMixture\n",
    "from sklearn.cluster import KMeans\n",
    "from sklearn.preprocessing import StandardScaler\n",
    "from sklearn.preprocessing import OneHotEncoder\n",
    "from sklearn.compose import ColumnTransformer\n",
    "from sklearn.impute import SimpleImputer\n",
    "from sklearn.pipeline import Pipeline\n",
    "from sklearn.decomposition import PCA\n",
    "\n",
    "\n",
    "\n",
    "pred_Music = pd.read_csv('music_genre.csv')\n",
    "\n",
    "#subset with wanted variables\n",
    "edited_pred_Music = pred_Music[[\"artist_name\", \"track_name\", \"acousticness\", \"danceability\", \n",
    "                                \"instrumentalness\", \"liveness\", \"loudness\", \"mode\", \"speechiness\", \n",
    "                                \"tempo\", \"valence\", \"music_genre\"]]\n",
    "\n",
    "#checked and got rid of duplicates\n",
    "edited_pred_Music = edited_pred_Music.drop_duplicates('track_name').copy()\n",
    "\n",
    "\n",
    "#changed name in columns artist_name and track_name and combined columns\n",
    "new_name_edited_pred_Music = edited_pred_Music.rename(columns={\"artist_name\" : \"Artist\", \"track_name\" : \"Title\"})\n",
    "new_name_edited_pred_Music[\"Title,Artist\"] = new_name_edited_pred_Music[\"Title\"] + \"*\\*\" + new_name_edited_pred_Music[\"Artist\"]\n",
    "new_name_edited_pred_Music\n"
   ]
  },
  {
   "cell_type": "code",
   "execution_count": null,
   "metadata": {},
   "outputs": [],
   "source": [
    "#Show the Clustering\n",
    "\n",
    "# Drop non-numeric columns\n",
    "X = edited_pred_Music.drop(columns=['artist_name', 'track_name', 'music_genre'])\n",
    "\n",
    "#Define categorical and numerical features\n",
    "numeric_features = X.select_dtypes(include=['float64']).columns.tolist()\n",
    "categorical_features = ['mode']\n",
    "\n",
    "#Define transformers for categorical & numerical features\n",
    "numeric_transformer = Pipeline(steps=[\n",
    "    ('imputer', SimpleImputer(strategy = 'mean')), \n",
    "    ('scaler', StandardScaler())\n",
    "])\n",
    "\n",
    "\n",
    "categorical_transformer = Pipeline(steps= [\n",
    "    ('imputer', SimpleImputer(strategy='most_frequent')),\n",
    "    ('onehot', OneHotEncoder(handle_unknown='ignore'))\n",
    "])\n",
    "\n",
    "#apply transformers to appropriate columns via ColumnTransformer\n",
    "preprocessor = ColumnTransformer(\n",
    "    transformers=[\n",
    "        ('num', numeric_transformer, numeric_features), \n",
    "        ('cat', categorical_transformer, categorical_features)\n",
    "    ])\n",
    "\n",
    "#preprocess the data\n",
    "X_processed = preprocessor.fit_transform(X)\n",
    "\n",
    "\n",
    "#Fit GMM\n",
    "n_components = 9\n",
    "gmm = GaussianMixture(n_components=n_components, random_state = 42)\n",
    "gmm.fit(X_processed)\n",
    "\n",
    "#get cluster labels\n",
    "cluster_labels = gmm.predict(X_processed)\n",
    "\n",
    "#add cluster labels to orig. dataframe\n",
    "edited_pred_Music['cluster_label'] = cluster_labels\n",
    "\n",
    "print(edited_pred_Music['cluster_label'].value_counts())\n",
    "\n",
    "#reduce dimensionality for purposes of visualizing data\n",
    "pca = PCA(n_components=2)\n",
    "X_reduced = pca.fit_transform(X_processed)\n",
    "\n",
    "#plot data with cluster labels\n",
    "plt.figure(figsize=(10,6))\n",
    "for cluster_label in range(n_components):\n",
    "    plt.scatter(X_reduced[cluster_labels == cluster_label, 0],\n",
    "               X_reduced[cluster_labels == cluster_label, 1],\n",
    "               label=f'Cluster {cluster_label}', alpha=0.7)\n",
    "\n",
    "#plot centroids\n",
    "centroids = pca.transform(gmm.means_)\n",
    "plt.scatter(centroids[:, 0], centroids[:, 1], marker = 'x', color = 'black', s=100, label='Centroids')\n",
    "plt.title('GMM Clustering')\n",
    "plt.xlabel(\"Principal Component 1\")\n",
    "plt.ylabel(\"Principal Component 2\")\n",
    "plt.legend()\n",
    "plt.grid(True)\n",
    "plt.show()"
   ]
  },
  {
   "cell_type": "code",
   "execution_count": null,
   "metadata": {},
   "outputs": [],
   "source": [
    "#access principal components\n",
    "principal_components = pca.components_\n",
    "\n",
    "#display principal components\n",
    "for i, pc in enumerate(principal_components):\n",
    "    print(f\"Principal Component {i+1}:\")\n",
    "    for j, feature in enumerate(X.columns):\n",
    "        print(f\"{feature}: {pc[j]}\")\n",
    "    print()\n",
    "    \n",
    "#This code shows the contribution of each original \n",
    "#feature towards each of the two principal components"
   ]
  },
  {
   "cell_type": "markdown",
   "metadata": {},
   "source": [
    "# Compiled Data - Everyone\n",
    "\n",
    "Here we compile all the datasets together for Monday meeting\n"
   ]
  },
  {
   "cell_type": "code",
   "execution_count": null,
   "metadata": {},
   "outputs": [],
   "source": []
  },
  {
   "cell_type": "markdown",
   "metadata": {},
   "source": [
    "# EDA - TBD\n",
    "\n",
    "\n"
   ]
  },
  {
   "cell_type": "markdown",
   "metadata": {},
   "source": [
    "# Program - TBD"
   ]
  },
  {
   "cell_type": "markdown",
   "metadata": {},
   "source": [
    "# Footnotes\n",
    "1. <a name=\"cite_note-1\"></a> [^](#cite_ref-1) Chillar, Snigdha et al. (May 2019) Music Genre Classification using Machine Learning Algorithms: A comparison. *International Research Journal of Engineering and Technology (IRJET)*. https://d1wqtxts1xzle7.cloudfront.net/59934287/IRJET-V6I517420190704-120568-1u4iafr-libre.pdf?1562308085=&response-content-disposition=inline%3B+filename%3DIRJET_Music_Genre_Classification_using_M.pdf&Expires=1708407619&Signature=WRJ6JnCTvv8fyWmo~A-SzVQ2DRT77pSZFX8tmlz7YCCB7J5ZMkrJpugkiwlJT7DoaCR-d2jI6IfGjgYXI9-EsJlVANQ~gJY04gUz9H4zkZG-HiyimSeXcAkK58Rqp06qgvlu-yx5zcM1wNxrnhgASBQEvVBkhyQMxETbkgtLYzw40gKVZFeioo0Qjj7aqC-YDzGwlzlnXhNss4xlBsBj7PdyTFgGu2cM8ky8g3XsqA1yIIuiO4cr0SEcCJU8orRATVTpB388Nud0GvNiGOz6DAhpoCBLEqrsYxFHk2jOut7x1TPs91ECXgG1SwjPE03vlYoeAMEkdV5pasBm1yZDeQ__&Key-Pair-Id=APKAJLOHF5GGSLRBV4ZA\n",
    "\n",
    "2. <a name=\"cite_note-2\"></a> [^](#cite_ref-2) Bahuleyan, Hareesh( 3 April 2018) Music Genre Classification using Machine Learning Techniques. Cornell University. https://doi.org/10.48550/arXiv.1804.01149\n",
    "\n",
    "3. <a name=\"cite_note-3\"></a> [^](#cite_ref-3) Wohlwend, Brandon (23 July 2023) Decision Tree, Random Forest, and XGBoost: An Exploration into the Heart of Machine Learning. Medium. https://medium.com/@brandon93.w/decision-tree-random-forest-and-xgboost-an-exploration-into-the-heart-of-machine-learning-90dc212f4948#:~:text=Random%20Forests%20build%20on%20this,that%20often%20outperforms%20many%20others.\n"
   ]
  },
  {
   "cell_type": "code",
   "execution_count": null,
   "metadata": {},
   "outputs": [],
   "source": []
  }
 ],
 "metadata": {
  "kernelspec": {
   "display_name": "Python 3 (ipykernel)",
   "language": "python",
   "name": "python3"
  },
  "language_info": {
   "codemirror_mode": {
    "name": "ipython",
    "version": 3
   },
   "file_extension": ".py",
   "mimetype": "text/x-python",
   "name": "python",
   "nbconvert_exporter": "python",
   "pygments_lexer": "ipython3",
   "version": "3.9.5"
  }
 },
 "nbformat": 4,
 "nbformat_minor": 2
}
